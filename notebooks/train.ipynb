{
 "cells": [
  {
   "cell_type": "code",
   "execution_count": 1,
   "id": "c7dd8217",
   "metadata": {},
   "outputs": [],
   "source": [
    "import sys\n",
    "import torch\n",
    "import numpy as np\n",
    "from tqdm import tqdm\n",
    "sys.path.append('../model/geometric_temporal/')\n",
    "from recurrent import LSTMGCNModel\n",
    "from torch_geometric_temporal.signal import DynamicGraphTemporalSignal"
   ]
  },
  {
   "cell_type": "code",
   "execution_count": 2,
   "id": "180da5ec",
   "metadata": {},
   "outputs": [],
   "source": [
    "dataset = DynamicGraphTemporalSignal(\n",
    "    edge_indices = [np.array([[0, 1], [1, 0]]), np.array([[1, 0], [0, 1]])],\n",
    "    edge_weights = [np.array([[4], [2.3]]), np.array([[3.2], [1.2]])],\n",
    "    features = [np.array([[1, 2], [3, 1]]), np.array([[2, 3], [1, 1]])],\n",
    "    targets = [np.array([[0], [0]]), np.array([[0], [0]])]  # goldstein\n",
    ")"
   ]
  },
  {
   "cell_type": "code",
   "execution_count": 3,
   "id": "7e5d21a1",
   "metadata": {
    "scrolled": false
   },
   "outputs": [
    {
     "name": "stderr",
     "output_type": "stream",
     "text": [
      "100%|████████████████████████████████████████████████████████████████████████████████████████████████████████████████████████████████████████████████████████████████████████████| 10/10 [00:00<00:00, 139.43it/s]"
     ]
    },
    {
     "name": "stdout",
     "output_type": "stream",
     "text": [
      "Epoch: 0, Snapshot: Data(x=[2, 2], edge_index=[2, 2], edge_attr=[2, 1], y=[2, 1])\n",
      "hat: tensor([-0.2187, -0.2692,  0.2752, -0.0446,  0.0047,  0.0592,  0.0882,  0.2112],\n",
      "       grad_fn=<UnbindBackward0>)\n",
      "hat: tensor([-0.1796, -0.2699,  0.2925, -0.1545,  0.0164,  0.0913,  0.0947,  0.1742],\n",
      "       grad_fn=<UnbindBackward0>)\n",
      "Epoch: 0, Snapshot: Data(x=[2, 2], edge_index=[2, 2], edge_attr=[2, 1], y=[2, 1])\n",
      "hat: tensor([-0.2101, -0.2722,  0.2809, -0.0412,  0.0146,  0.0613,  0.0961,  0.2051],\n",
      "       grad_fn=<UnbindBackward0>)\n",
      "hat: tensor([-0.2143, -0.2639,  0.2539, -0.1118, -0.0168,  0.0659,  0.1045,  0.2120],\n",
      "       grad_fn=<UnbindBackward0>)\n",
      "Epoch: 1, Snapshot: Data(x=[2, 2], edge_index=[2, 2], edge_attr=[2, 1], y=[2, 1])\n",
      "hat: tensor([-0.1997, -0.2563,  0.2617, -0.0283, -0.0063,  0.0469,  0.0828,  0.1941],\n",
      "       grad_fn=<UnbindBackward0>)\n",
      "hat: tensor([-0.1775, -0.2673,  0.2648, -0.1231,  0.0033,  0.0645,  0.0841,  0.1608],\n",
      "       grad_fn=<UnbindBackward0>)\n",
      "Epoch: 1, Snapshot: Data(x=[2, 2], edge_index=[2, 2], edge_attr=[2, 1], y=[2, 1])\n",
      "hat: tensor([-0.1907, -0.2589,  0.2654, -0.0238,  0.0004,  0.0485,  0.0920,  0.1895],\n",
      "       grad_fn=<UnbindBackward0>)\n",
      "hat: tensor([-0.1994, -0.2509,  0.2417, -0.0971, -0.0312,  0.0537,  0.0981,  0.2020],\n",
      "       grad_fn=<UnbindBackward0>)\n",
      "Epoch: 2, Snapshot: Data(x=[2, 2], edge_index=[2, 2], edge_attr=[2, 1], y=[2, 1])\n",
      "hat: tensor([-0.1807, -0.2432,  0.2482, -0.0120, -0.0010,  0.0346,  0.0772,  0.1769],\n",
      "       grad_fn=<UnbindBackward0>)\n",
      "hat: tensor([-0.1610, -0.2572,  0.2493, -0.1074, -0.0093,  0.0508,  0.0606,  0.1445],\n",
      "       grad_fn=<UnbindBackward0>)\n",
      "Epoch: 2, Snapshot: Data(x=[2, 2], edge_index=[2, 2], edge_attr=[2, 1], y=[2, 1])\n",
      "hat: tensor([-0.1712, -0.2458,  0.2507, -0.0067,  0.0036,  0.0361,  0.0879,  0.1734],\n",
      "       grad_fn=<UnbindBackward0>)\n",
      "hat: tensor([-0.1846, -0.2396,  0.2295, -0.0833, -0.0293,  0.0429,  0.0930,  0.1904],\n",
      "       grad_fn=<UnbindBackward0>)\n",
      "Epoch: 3, Snapshot: Data(x=[2, 2], edge_index=[2, 2], edge_attr=[2, 1], y=[2, 1])\n",
      "hat: tensor([-0.1618, -0.2301,  0.2346,  0.0040,  0.0077,  0.0224,  0.0712,  0.1596],\n",
      "       grad_fn=<UnbindBackward0>)\n",
      "hat: tensor([-0.1386, -0.2446,  0.2374, -0.0965, -0.0205,  0.0411,  0.0326,  0.1254],\n",
      "       grad_fn=<UnbindBackward0>)\n",
      "Epoch: 3, Snapshot: Data(x=[2, 2], edge_index=[2, 2], edge_attr=[2, 1], y=[2, 1])\n",
      "hat: tensor([-0.1508, -0.2331,  0.2375,  0.0100,  0.0130,  0.0241,  0.0835,  0.1558],\n",
      "       grad_fn=<UnbindBackward0>)\n",
      "hat: tensor([-0.1702, -0.2294,  0.2178, -0.0690, -0.0217,  0.0329,  0.0871,  0.1771],\n",
      "       grad_fn=<UnbindBackward0>)\n",
      "Epoch: 4, Snapshot: Data(x=[2, 2], edge_index=[2, 2], edge_attr=[2, 1], y=[2, 1])\n",
      "hat: tensor([-0.1431, -0.2169,  0.2210,  0.0196,  0.0161,  0.0105,  0.0650,  0.1422],\n",
      "       grad_fn=<UnbindBackward0>)\n",
      "hat: tensor([-0.1134, -0.2311,  0.2262, -0.0868, -0.0295,  0.0325,  0.0028,  0.1037],\n",
      "       grad_fn=<UnbindBackward0>)\n",
      "Epoch: 4, Snapshot: Data(x=[2, 2], edge_index=[2, 2], edge_attr=[2, 1], y=[2, 1])\n",
      "hat: tensor([-0.1307, -0.2202,  0.2242,  0.0260,  0.0219,  0.0124,  0.0787,  0.1382],\n",
      "       grad_fn=<UnbindBackward0>)\n",
      "hat: tensor([-0.1559, -0.2195,  0.2065, -0.0541, -0.0117,  0.0232,  0.0799,  0.1626],\n",
      "       grad_fn=<UnbindBackward0>)\n",
      "Epoch: 5, Snapshot: Data(x=[2, 2], edge_index=[2, 2], edge_attr=[2, 1], y=[2, 1])\n",
      "hat: tensor([-0.1247, -0.2035,  0.2073,  0.0339,  0.0226, -0.0009,  0.0584,  0.1247],\n",
      "       grad_fn=<UnbindBackward0>)\n",
      "hat: tensor([-0.0872, -0.2174,  0.2142, -0.0764, -0.0358,  0.0235, -0.0265,  0.0801],\n",
      "       grad_fn=<UnbindBackward0>)\n",
      "Epoch: 5, Snapshot: Data(x=[2, 2], edge_index=[2, 2], edge_attr=[2, 1], y=[2, 1])\n",
      "hat: tensor([-0.1109, -0.2072,  0.2109,  0.0408,  0.0290,  0.0012,  0.0734,  0.1206],\n",
      "       grad_fn=<UnbindBackward0>)\n",
      "hat: tensor([-0.1409, -0.2095,  0.1951, -0.0397, -0.0019,  0.0139,  0.0728,  0.1470],\n",
      "       grad_fn=<UnbindBackward0>)\n",
      "Epoch: 6, Snapshot: Data(x=[2, 2], edge_index=[2, 2], edge_attr=[2, 1], y=[2, 1])\n",
      "hat: tensor([-0.1065, -0.1899,  0.1934,  0.0463,  0.0264, -0.0114,  0.0515,  0.1073],\n",
      "       grad_fn=<UnbindBackward0>)\n",
      "hat: tensor([-0.0629, -0.2047,  0.2000, -0.0639, -0.0390,  0.0129, -0.0515,  0.0557],\n",
      "       grad_fn=<UnbindBackward0>)\n",
      "Epoch: 6, Snapshot: Data(x=[2, 2], edge_index=[2, 2], edge_attr=[2, 1], y=[2, 1])\n",
      "hat: tensor([-0.0914, -0.1941,  0.1974,  0.0536,  0.0332, -0.0091,  0.0678,  0.1031],\n",
      "       grad_fn=<UnbindBackward0>)\n",
      "hat: tensor([-0.1256, -0.1988,  0.1828, -0.0257,  0.0063,  0.0049,  0.0653,  0.1294],\n",
      "       grad_fn=<UnbindBackward0>)\n",
      "Epoch: 7, Snapshot: Data(x=[2, 2], edge_index=[2, 2], edge_attr=[2, 1], y=[2, 1])\n",
      "hat: tensor([-0.0888, -0.1761,  0.1794,  0.0565,  0.0268, -0.0205,  0.0444,  0.0900],\n",
      "       grad_fn=<UnbindBackward0>)\n",
      "hat: tensor([-0.0422, -0.1936,  0.1833, -0.0491, -0.0391,  0.0007, -0.0699,  0.0321],\n",
      "       grad_fn=<UnbindBackward0>)\n",
      "Epoch: 7, Snapshot: Data(x=[2, 2], edge_index=[2, 2], edge_attr=[2, 1], y=[2, 1])\n",
      "hat: tensor([-0.0724, -0.1811,  0.1835,  0.0639,  0.0344, -0.0177,  0.0621,  0.0853],\n",
      "       grad_fn=<UnbindBackward0>)\n",
      "hat: tensor([-0.1099, -0.1876,  0.1699, -0.0131,  0.0119, -0.0031,  0.0577,  0.1110],\n",
      "       grad_fn=<UnbindBackward0>)\n",
      "Epoch: 8, Snapshot: Data(x=[2, 2], edge_index=[2, 2], edge_attr=[2, 1], y=[2, 1])\n",
      "hat: tensor([-0.0716, -0.1621,  0.1652,  0.0642,  0.0242, -0.0276,  0.0370,  0.0730],\n",
      "       grad_fn=<UnbindBackward0>)\n",
      "hat: tensor([-0.0255, -0.1835,  0.1650, -0.0339, -0.0366, -0.0114, -0.0819,  0.0104],\n",
      "       grad_fn=<UnbindBackward0>)\n",
      "Epoch: 8, Snapshot: Data(x=[2, 2], edge_index=[2, 2], edge_attr=[2, 1], y=[2, 1])\n",
      "hat: tensor([-0.0539, -0.1681,  0.1689,  0.0715,  0.0329, -0.0241,  0.0564,  0.0672],\n",
      "       grad_fn=<UnbindBackward0>)\n",
      "hat: tensor([-0.0940, -0.1759,  0.1564, -0.0023,  0.0151, -0.0097,  0.0502,  0.0918],\n",
      "       grad_fn=<UnbindBackward0>)\n",
      "Epoch: 9, Snapshot: Data(x=[2, 2], edge_index=[2, 2], edge_attr=[2, 1], y=[2, 1])\n",
      "hat: tensor([-0.0551, -0.1479,  0.1509,  0.0694,  0.0192, -0.0323,  0.0294,  0.0563],\n",
      "       grad_fn=<UnbindBackward0>)\n",
      "hat: tensor([-0.0126, -0.1738,  0.1463, -0.0201, -0.0320, -0.0215, -0.0881, -0.0081],\n",
      "       grad_fn=<UnbindBackward0>)\n",
      "Epoch: 9, Snapshot: Data(x=[2, 2], edge_index=[2, 2], edge_attr=[2, 1], y=[2, 1])\n",
      "hat: tensor([-0.0355, -0.1549,  0.1544,  0.0766,  0.0306, -0.0282,  0.0504,  0.0484],\n",
      "       grad_fn=<UnbindBackward0>)\n",
      "hat: tensor([-0.0781, -0.1637,  0.1422,  0.0064,  0.0164, -0.0143,  0.0428,  0.0722],\n",
      "       grad_fn=<UnbindBackward0>)\n"
     ]
    },
    {
     "name": "stderr",
     "output_type": "stream",
     "text": [
      "\n"
     ]
    }
   ],
   "source": [
    "model = LSTMGCNModel(2, 10, 1, 8)\n",
    "\n",
    "optimizer = torch.optim.Adam(model.parameters(), lr=0.01)\n",
    "\n",
    "model.train()\n",
    "\n",
    "for epoch in tqdm(range(10)):\n",
    "    cost = 0\n",
    "    for time, snapshot in enumerate(dataset):\n",
    "        print(f\"Epoch: {epoch}, Snapshot: {snapshot}\")\n",
    "        y_hat = model(snapshot.x, snapshot.edge_index, snapshot.edge_attr)\n",
    "        \n",
    "        for hat in y_hat:\n",
    "            print(f\"hat: {hat}\")\n",
    "        cost = cost + torch.mean((y_hat-snapshot.y)**2)\n",
    "    cost = cost / (time+1)\n",
    "    cost.backward()\n",
    "    optimizer.step()\n",
    "    optimizer.zero_grad()"
   ]
  }
 ],
 "metadata": {
  "kernelspec": {
   "display_name": "Python 3 (ipykernel)",
   "language": "python",
   "name": "python3"
  },
  "language_info": {
   "codemirror_mode": {
    "name": "ipython",
    "version": 3
   },
   "file_extension": ".py",
   "mimetype": "text/x-python",
   "name": "python",
   "nbconvert_exporter": "python",
   "pygments_lexer": "ipython3",
   "version": "3.7.7"
  }
 },
 "nbformat": 4,
 "nbformat_minor": 5
}
