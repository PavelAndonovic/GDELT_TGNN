{
  "nbformat": 4,
  "nbformat_minor": 0,
  "metadata": {
    "colab": {
      "name": "merge_gdelt_data.ipynb",
      "provenance": [],
      "collapsed_sections": []
    },
    "kernelspec": {
      "name": "python3",
      "display_name": "Python 3"
    },
    "language_info": {
      "name": "python"
    }
  },
  "cells": [
    {
      "cell_type": "code",
      "execution_count": 1,
      "metadata": {
        "id": "avbsXNu9KVq6"
      },
      "outputs": [],
      "source": [
        "import pandas as pd\n",
        "import numpy as np\n",
        "import matplotlib.pyplot as plt\n",
        "import seaborn as sns\n",
        "from sklearn.preprocessing import LabelEncoder\n",
        "import pickle"
      ]
    },
    {
      "cell_type": "code",
      "source": [
        "data_gdelt = pd.read_csv('/content/drive/MyDrive/GDELT Project/data/processed/Edge weights/gdelt_complete.csv')"
      ],
      "metadata": {
        "id": "XL5FOCUEKgf-"
      },
      "execution_count": 2,
      "outputs": []
    },
    {
      "cell_type": "code",
      "source": [
        "data_gdelt.head()"
      ],
      "metadata": {
        "colab": {
          "base_uri": "https://localhost:8080/",
          "height": 287
        },
        "id": "l-6EApmFKwpT",
        "outputId": "c26569cb-1361-4430-b338-5896c5d54fb4"
      },
      "execution_count": 3,
      "outputs": [
        {
          "output_type": "execute_result",
          "data": {
            "text/plain": [
              "   Unnamed: 0 Actor1CountryCode Actor2CountryCode  AlternateGoldsteinScale  \\\n",
              "0           0               ABW               NLD                 3.400000   \n",
              "1           1               AFG               AFG                 0.501637   \n",
              "2           2               AFG               ARE                 1.900000   \n",
              "3           3               AFG               BEL                 2.500000   \n",
              "4           4               AFG               BGR                 3.080000   \n",
              "\n",
              "    SQLDATE  Material Cooperation  Verbal Cooperation  Verbal Conflict  \\\n",
              "0  19791123              0.000000            1.000000         0.000000   \n",
              "1  19791231              0.069697            0.651515         0.133333   \n",
              "2  19790811              0.000000            1.000000         0.000000   \n",
              "3  19791231              0.000000            1.000000         0.000000   \n",
              "4  19791110              0.000000            1.000000         0.000000   \n",
              "\n",
              "   Material Conflict  GoldsteinScale  NumArticles   AvgTone  Actor1Geo_Lat  \\\n",
              "0           0.000000        3.400000            4  5.000000       8.000000   \n",
              "1           0.145455        0.107273         1161  5.502025      33.846372   \n",
              "2           0.000000        1.900000            8  6.796117      33.000000   \n",
              "3           0.000000        2.500000           18  4.966140      33.000000   \n",
              "4           0.000000        2.829630          100  5.930335      36.273044   \n",
              "\n",
              "   Actor2Geo_Lat  Actor1Geo_Long  Actor2Geo_Long  NumberOfRowsBetweenCountries  \n",
              "0       8.000000      -66.000000      -66.000000                             1  \n",
              "1      33.764114       63.743229       63.742776                           330  \n",
              "2      27.311133       65.000000       57.911133                             3  \n",
              "3      50.833300       65.000000        4.333330                             2  \n",
              "4      38.396333       51.890452       42.511204                            27  "
            ],
            "text/html": [
              "\n",
              "  <div id=\"df-abd94bbf-0bf2-49c5-9397-71cacc3d0b6c\">\n",
              "    <div class=\"colab-df-container\">\n",
              "      <div>\n",
              "<style scoped>\n",
              "    .dataframe tbody tr th:only-of-type {\n",
              "        vertical-align: middle;\n",
              "    }\n",
              "\n",
              "    .dataframe tbody tr th {\n",
              "        vertical-align: top;\n",
              "    }\n",
              "\n",
              "    .dataframe thead th {\n",
              "        text-align: right;\n",
              "    }\n",
              "</style>\n",
              "<table border=\"1\" class=\"dataframe\">\n",
              "  <thead>\n",
              "    <tr style=\"text-align: right;\">\n",
              "      <th></th>\n",
              "      <th>Unnamed: 0</th>\n",
              "      <th>Actor1CountryCode</th>\n",
              "      <th>Actor2CountryCode</th>\n",
              "      <th>AlternateGoldsteinScale</th>\n",
              "      <th>SQLDATE</th>\n",
              "      <th>Material Cooperation</th>\n",
              "      <th>Verbal Cooperation</th>\n",
              "      <th>Verbal Conflict</th>\n",
              "      <th>Material Conflict</th>\n",
              "      <th>GoldsteinScale</th>\n",
              "      <th>NumArticles</th>\n",
              "      <th>AvgTone</th>\n",
              "      <th>Actor1Geo_Lat</th>\n",
              "      <th>Actor2Geo_Lat</th>\n",
              "      <th>Actor1Geo_Long</th>\n",
              "      <th>Actor2Geo_Long</th>\n",
              "      <th>NumberOfRowsBetweenCountries</th>\n",
              "    </tr>\n",
              "  </thead>\n",
              "  <tbody>\n",
              "    <tr>\n",
              "      <th>0</th>\n",
              "      <td>0</td>\n",
              "      <td>ABW</td>\n",
              "      <td>NLD</td>\n",
              "      <td>3.400000</td>\n",
              "      <td>19791123</td>\n",
              "      <td>0.000000</td>\n",
              "      <td>1.000000</td>\n",
              "      <td>0.000000</td>\n",
              "      <td>0.000000</td>\n",
              "      <td>3.400000</td>\n",
              "      <td>4</td>\n",
              "      <td>5.000000</td>\n",
              "      <td>8.000000</td>\n",
              "      <td>8.000000</td>\n",
              "      <td>-66.000000</td>\n",
              "      <td>-66.000000</td>\n",
              "      <td>1</td>\n",
              "    </tr>\n",
              "    <tr>\n",
              "      <th>1</th>\n",
              "      <td>1</td>\n",
              "      <td>AFG</td>\n",
              "      <td>AFG</td>\n",
              "      <td>0.501637</td>\n",
              "      <td>19791231</td>\n",
              "      <td>0.069697</td>\n",
              "      <td>0.651515</td>\n",
              "      <td>0.133333</td>\n",
              "      <td>0.145455</td>\n",
              "      <td>0.107273</td>\n",
              "      <td>1161</td>\n",
              "      <td>5.502025</td>\n",
              "      <td>33.846372</td>\n",
              "      <td>33.764114</td>\n",
              "      <td>63.743229</td>\n",
              "      <td>63.742776</td>\n",
              "      <td>330</td>\n",
              "    </tr>\n",
              "    <tr>\n",
              "      <th>2</th>\n",
              "      <td>2</td>\n",
              "      <td>AFG</td>\n",
              "      <td>ARE</td>\n",
              "      <td>1.900000</td>\n",
              "      <td>19790811</td>\n",
              "      <td>0.000000</td>\n",
              "      <td>1.000000</td>\n",
              "      <td>0.000000</td>\n",
              "      <td>0.000000</td>\n",
              "      <td>1.900000</td>\n",
              "      <td>8</td>\n",
              "      <td>6.796117</td>\n",
              "      <td>33.000000</td>\n",
              "      <td>27.311133</td>\n",
              "      <td>65.000000</td>\n",
              "      <td>57.911133</td>\n",
              "      <td>3</td>\n",
              "    </tr>\n",
              "    <tr>\n",
              "      <th>3</th>\n",
              "      <td>3</td>\n",
              "      <td>AFG</td>\n",
              "      <td>BEL</td>\n",
              "      <td>2.500000</td>\n",
              "      <td>19791231</td>\n",
              "      <td>0.000000</td>\n",
              "      <td>1.000000</td>\n",
              "      <td>0.000000</td>\n",
              "      <td>0.000000</td>\n",
              "      <td>2.500000</td>\n",
              "      <td>18</td>\n",
              "      <td>4.966140</td>\n",
              "      <td>33.000000</td>\n",
              "      <td>50.833300</td>\n",
              "      <td>65.000000</td>\n",
              "      <td>4.333330</td>\n",
              "      <td>2</td>\n",
              "    </tr>\n",
              "    <tr>\n",
              "      <th>4</th>\n",
              "      <td>4</td>\n",
              "      <td>AFG</td>\n",
              "      <td>BGR</td>\n",
              "      <td>3.080000</td>\n",
              "      <td>19791110</td>\n",
              "      <td>0.000000</td>\n",
              "      <td>1.000000</td>\n",
              "      <td>0.000000</td>\n",
              "      <td>0.000000</td>\n",
              "      <td>2.829630</td>\n",
              "      <td>100</td>\n",
              "      <td>5.930335</td>\n",
              "      <td>36.273044</td>\n",
              "      <td>38.396333</td>\n",
              "      <td>51.890452</td>\n",
              "      <td>42.511204</td>\n",
              "      <td>27</td>\n",
              "    </tr>\n",
              "  </tbody>\n",
              "</table>\n",
              "</div>\n",
              "      <button class=\"colab-df-convert\" onclick=\"convertToInteractive('df-abd94bbf-0bf2-49c5-9397-71cacc3d0b6c')\"\n",
              "              title=\"Convert this dataframe to an interactive table.\"\n",
              "              style=\"display:none;\">\n",
              "        \n",
              "  <svg xmlns=\"http://www.w3.org/2000/svg\" height=\"24px\"viewBox=\"0 0 24 24\"\n",
              "       width=\"24px\">\n",
              "    <path d=\"M0 0h24v24H0V0z\" fill=\"none\"/>\n",
              "    <path d=\"M18.56 5.44l.94 2.06.94-2.06 2.06-.94-2.06-.94-.94-2.06-.94 2.06-2.06.94zm-11 1L8.5 8.5l.94-2.06 2.06-.94-2.06-.94L8.5 2.5l-.94 2.06-2.06.94zm10 10l.94 2.06.94-2.06 2.06-.94-2.06-.94-.94-2.06-.94 2.06-2.06.94z\"/><path d=\"M17.41 7.96l-1.37-1.37c-.4-.4-.92-.59-1.43-.59-.52 0-1.04.2-1.43.59L10.3 9.45l-7.72 7.72c-.78.78-.78 2.05 0 2.83L4 21.41c.39.39.9.59 1.41.59.51 0 1.02-.2 1.41-.59l7.78-7.78 2.81-2.81c.8-.78.8-2.07 0-2.86zM5.41 20L4 18.59l7.72-7.72 1.47 1.35L5.41 20z\"/>\n",
              "  </svg>\n",
              "      </button>\n",
              "      \n",
              "  <style>\n",
              "    .colab-df-container {\n",
              "      display:flex;\n",
              "      flex-wrap:wrap;\n",
              "      gap: 12px;\n",
              "    }\n",
              "\n",
              "    .colab-df-convert {\n",
              "      background-color: #E8F0FE;\n",
              "      border: none;\n",
              "      border-radius: 50%;\n",
              "      cursor: pointer;\n",
              "      display: none;\n",
              "      fill: #1967D2;\n",
              "      height: 32px;\n",
              "      padding: 0 0 0 0;\n",
              "      width: 32px;\n",
              "    }\n",
              "\n",
              "    .colab-df-convert:hover {\n",
              "      background-color: #E2EBFA;\n",
              "      box-shadow: 0px 1px 2px rgba(60, 64, 67, 0.3), 0px 1px 3px 1px rgba(60, 64, 67, 0.15);\n",
              "      fill: #174EA6;\n",
              "    }\n",
              "\n",
              "    [theme=dark] .colab-df-convert {\n",
              "      background-color: #3B4455;\n",
              "      fill: #D2E3FC;\n",
              "    }\n",
              "\n",
              "    [theme=dark] .colab-df-convert:hover {\n",
              "      background-color: #434B5C;\n",
              "      box-shadow: 0px 1px 3px 1px rgba(0, 0, 0, 0.15);\n",
              "      filter: drop-shadow(0px 1px 2px rgba(0, 0, 0, 0.3));\n",
              "      fill: #FFFFFF;\n",
              "    }\n",
              "  </style>\n",
              "\n",
              "      <script>\n",
              "        const buttonEl =\n",
              "          document.querySelector('#df-abd94bbf-0bf2-49c5-9397-71cacc3d0b6c button.colab-df-convert');\n",
              "        buttonEl.style.display =\n",
              "          google.colab.kernel.accessAllowed ? 'block' : 'none';\n",
              "\n",
              "        async function convertToInteractive(key) {\n",
              "          const element = document.querySelector('#df-abd94bbf-0bf2-49c5-9397-71cacc3d0b6c');\n",
              "          const dataTable =\n",
              "            await google.colab.kernel.invokeFunction('convertToInteractive',\n",
              "                                                     [key], {});\n",
              "          if (!dataTable) return;\n",
              "\n",
              "          const docLinkHtml = 'Like what you see? Visit the ' +\n",
              "            '<a target=\"_blank\" href=https://colab.research.google.com/notebooks/data_table.ipynb>data table notebook</a>'\n",
              "            + ' to learn more about interactive tables.';\n",
              "          element.innerHTML = '';\n",
              "          dataTable['output_type'] = 'display_data';\n",
              "          await google.colab.output.renderOutput(dataTable, element);\n",
              "          const docLink = document.createElement('div');\n",
              "          docLink.innerHTML = docLinkHtml;\n",
              "          element.appendChild(docLink);\n",
              "        }\n",
              "      </script>\n",
              "    </div>\n",
              "  </div>\n",
              "  "
            ]
          },
          "metadata": {},
          "execution_count": 3
        }
      ]
    },
    {
      "cell_type": "code",
      "source": [
        "data_gdelt.drop('Unnamed: 0', axis=1, inplace=True)"
      ],
      "metadata": {
        "id": "N5wbflY4Lxl1"
      },
      "execution_count": 4,
      "outputs": []
    },
    {
      "cell_type": "code",
      "source": [
        "TIME_STEPS = set(data_gdelt['SQLDATE'])"
      ],
      "metadata": {
        "id": "SOlF8WG2MFsa"
      },
      "execution_count": 5,
      "outputs": []
    },
    {
      "cell_type": "code",
      "source": [
        "TIME_STEPS_LEN = len(TIME_STEPS)"
      ],
      "metadata": {
        "id": "uY98PNloiy4s"
      },
      "execution_count": 6,
      "outputs": []
    },
    {
      "cell_type": "code",
      "source": [
        "TIME_STEPS_LEN"
      ],
      "metadata": {
        "colab": {
          "base_uri": "https://localhost:8080/"
        },
        "id": "qTnOICXDGd8a",
        "outputId": "a0f293d8-bef5-4bf2-ec7d-2d7119e61b85"
      },
      "execution_count": 7,
      "outputs": [
        {
          "output_type": "execute_result",
          "data": {
            "text/plain": [
              "15813"
            ]
          },
          "metadata": {},
          "execution_count": 7
        }
      ]
    },
    {
      "cell_type": "code",
      "source": [
        "a1_countries = set(data_gdelt['Actor1CountryCode'])\n",
        "a2_countries = set(data_gdelt['Actor2CountryCode'])"
      ],
      "metadata": {
        "id": "9VSHpWx1jevR"
      },
      "execution_count": 8,
      "outputs": []
    },
    {
      "cell_type": "code",
      "source": [
        "a1_countries.difference(a2_countries) # all countires in a1 are also in a2"
      ],
      "metadata": {
        "colab": {
          "base_uri": "https://localhost:8080/"
        },
        "id": "ebWn5e1kjlqY",
        "outputId": "7a555f19-9ba3-4f27-90b4-2f4a4315e2f8"
      },
      "execution_count": 9,
      "outputs": [
        {
          "output_type": "execute_result",
          "data": {
            "text/plain": [
              "set()"
            ]
          },
          "metadata": {},
          "execution_count": 9
        }
      ]
    },
    {
      "cell_type": "code",
      "source": [
        "enc = LabelEncoder()\n",
        "countries = list(a1_countries)\n",
        "label_encodings = enc.fit_transform(countries)"
      ],
      "metadata": {
        "id": "bf5yWW6EjYz_"
      },
      "execution_count": 10,
      "outputs": []
    },
    {
      "cell_type": "code",
      "source": [
        "mapping_dict = {}\n",
        "mapping_dict['node_ids'] = {}\n",
        "for c, l in zip(countries, label_encodings):\n",
        "  mapping_dict['node_ids'][c] = l"
      ],
      "metadata": {
        "id": "jstM9HmXj-6Y"
      },
      "execution_count": 11,
      "outputs": []
    },
    {
      "cell_type": "code",
      "source": [
        "mapping_dict['time_periods'] = TIME_STEPS_LEN"
      ],
      "metadata": {
        "id": "kdSq0K_qkTq_"
      },
      "execution_count": 12,
      "outputs": []
    },
    {
      "cell_type": "code",
      "source": [
        "TIME_STEPS = sorted(TIME_STEPS)"
      ],
      "metadata": {
        "id": "xIAq3cTSkcBv"
      },
      "execution_count": 13,
      "outputs": []
    },
    {
      "cell_type": "code",
      "source": [
        "X_country_location = pd.read_csv('/content/drive/MyDrive/GDELT Project/data/processed/X/country_location_data.csv')"
      ],
      "metadata": {
        "id": "BwwINAitk4i1"
      },
      "execution_count": 14,
      "outputs": []
    },
    {
      "cell_type": "code",
      "source": [
        "X_daily_exchange_rate = pd.read_csv('/content/drive/MyDrive/GDELT Project/data/processed/X/daily_exchange_rates_USD.csv')"
      ],
      "metadata": {
        "id": "-E7yc9JfmgKl"
      },
      "execution_count": 15,
      "outputs": []
    },
    {
      "cell_type": "code",
      "source": [
        "X_annual_GDP = pd.read_csv('/content/drive/MyDrive/GDELT Project/data/processed/X/yearly_GDP_data.csv')"
      ],
      "metadata": {
        "id": "RdmI-X60mpTP"
      },
      "execution_count": 16,
      "outputs": []
    },
    {
      "cell_type": "code",
      "source": [
        "X_annual_HDI = pd.read_csv('/content/drive/MyDrive/GDELT Project/data/processed/X/yearly_HDI.csv')"
      ],
      "metadata": {
        "id": "aZRrh4HUmt6Q"
      },
      "execution_count": 17,
      "outputs": []
    },
    {
      "cell_type": "code",
      "source": [
        "some = X_annual_HDI[X_annual_HDI['date']==1990]"
      ],
      "metadata": {
        "id": "E0Q9ZAmNpX6h"
      },
      "execution_count": 18,
      "outputs": []
    },
    {
      "cell_type": "code",
      "source": [
        "for i in range(1979, 1990):\n",
        "  some['date'] = i\n",
        "  X_annual_HDI = X_annual_HDI.append(some)"
      ],
      "metadata": {
        "colab": {
          "base_uri": "https://localhost:8080/"
        },
        "id": "HBdyaZN2qooN",
        "outputId": "c30ee111-c41d-4895-d263-394ee1bdc894"
      },
      "execution_count": 19,
      "outputs": [
        {
          "output_type": "stream",
          "name": "stderr",
          "text": [
            "/usr/local/lib/python3.7/dist-packages/ipykernel_launcher.py:2: SettingWithCopyWarning: \n",
            "A value is trying to be set on a copy of a slice from a DataFrame.\n",
            "Try using .loc[row_indexer,col_indexer] = value instead\n",
            "\n",
            "See the caveats in the documentation: https://pandas.pydata.org/pandas-docs/stable/user_guide/indexing.html#returning-a-view-versus-a-copy\n",
            "  \n"
          ]
        }
      ]
    },
    {
      "cell_type": "markdown",
      "source": [
        "Get number of nodes"
      ],
      "metadata": {
        "id": "829PRAEGsDJh"
      }
    },
    {
      "cell_type": "code",
      "source": [
        "max(mapping_dict['node_ids'].values())"
      ],
      "metadata": {
        "colab": {
          "base_uri": "https://localhost:8080/"
        },
        "id": "SK7hCIjsr4mk",
        "outputId": "8f868c36-2886-46f3-8fd3-aa2d14ee324a"
      },
      "execution_count": 20,
      "outputs": [
        {
          "output_type": "execute_result",
          "data": {
            "text/plain": [
              "223"
            ]
          },
          "metadata": {},
          "execution_count": 20
        }
      ]
    },
    {
      "cell_type": "code",
      "source": [
        "reverse_node_ids = {}\n",
        "for item in mapping_dict['node_ids'].items():\n",
        "  reverse_node_ids[str(item[1])] = item[0]"
      ],
      "metadata": {
        "id": "0YhZBhJAveI6"
      },
      "execution_count": 21,
      "outputs": []
    },
    {
      "cell_type": "code",
      "source": [
        "mapping_node_ids_time_steps = mapping_dict.copy()"
      ],
      "metadata": {
        "id": "PJaPHvEXzv3b"
      },
      "execution_count": 22,
      "outputs": []
    },
    {
      "cell_type": "code",
      "source": [
        "DATA_VERSION = 1"
      ],
      "metadata": {
        "id": "9UnxX2PVHZ9C"
      },
      "execution_count": 23,
      "outputs": []
    },
    {
      "cell_type": "code",
      "source": [
        "for i, sqldate in enumerate(TIME_STEPS):\n",
        "  \n",
        "  if i % 1000 == 0:\n",
        "    with open(f'/content/drive/MyDrive/GDELT Project/data/processed/Graph PKL/gdelt_data_{DATA_VERSION}.pkl', 'wb') as f:\n",
        "      pickle.dump(mapping_dict, f)\n",
        "    mapping_dict = mapping_node_ids_time_steps.copy()\n",
        "    DATA_VERSION += 1\n",
        "\n",
        "  date_view = data_gdelt[data_gdelt['SQLDATE'] == sqldate]\n",
        "  X = []\n",
        "  edges = []\n",
        "  weights = []\n",
        "  Y = np.zeros((224, 224))\n",
        "  for row in date_view.iterrows():\n",
        "    values = row[1]\n",
        "    source = values['Actor1CountryCode']\n",
        "    target = values['Actor2CountryCode']\n",
        "    num_source = mapping_dict['node_ids'][source]\n",
        "    num_target = mapping_dict['node_ids'][target]\n",
        "    edges.append([num_source, num_target])\n",
        "    weights.append([\n",
        "                    values['Material Cooperation'],\t\n",
        "                    values['Verbal Cooperation'],\n",
        "                    values['Verbal Conflict'],\n",
        "                    values['Material Conflict'],\n",
        "                    values['NumArticles'],\n",
        "                    values['AvgTone'],\n",
        "                    values['Actor1Geo_Lat'],\n",
        "                    values['Actor2Geo_Lat'],\n",
        "                    values['Actor1Geo_Long'],\n",
        "                    values['Actor2Geo_Long'],\n",
        "                    values['NumberOfRowsBetweenCountries']\n",
        "  ])\n",
        "    Y[num_source][num_target] = values['AlternateGoldsteinScale']\n",
        "\n",
        "  for j in range(224):\n",
        "    node_name = reverse_node_ids[str(j)]\n",
        "    hdi = X_annual_HDI[X_annual_HDI['date']==int(str(sqldate)[:4])]\n",
        "    if len(hdi) == 0:\n",
        "      hdi_val = 0\n",
        "    elif node_name in hdi.columns:\n",
        "      hdi_val = hdi[node_name].values[0]\n",
        "    else:\n",
        "      hdi_val = 0\n",
        "\n",
        "    gdp = X_annual_GDP[X_annual_GDP['year']==int(str(sqldate)[:4])]\n",
        "    if len(gdp) == 0:\n",
        "      gdp_val = 0\n",
        "    elif node_name in gdp.columns:\n",
        "      gdp_val = gdp[node_name].values[0]\n",
        "    else:\n",
        "      gdp_val = 0\n",
        "\n",
        "    exch = X_daily_exchange_rate[X_daily_exchange_rate['date'] == sqldate]\n",
        "    if len(exch) == 0:\n",
        "      exch_val = 0\n",
        "    elif node_name in exch.columns:\n",
        "      exch_val = exch[node_name].values[0]\n",
        "    else:\n",
        "      exch_val = 0\n",
        "\n",
        "    loc = X_country_location[X_country_location['Country Code'] == node_name]\n",
        "    if len(loc) == 0:\n",
        "      min_lat, min_long, max_lat, max_long = 0, 0, 0, 0\n",
        "    else:\n",
        "      min_lat, min_long, max_lat, max_long = loc['Min Latitude'].values[0], loc['Min Longitude'].values[0], loc['Max Latitude'].values[0], loc['Max Longitude'].values[0]\n",
        "\n",
        "    X.append([\n",
        "      hdi_val,\n",
        "      gdp_val,\n",
        "      exch_val,\n",
        "      min_lat,\n",
        "      min_long,\n",
        "      max_lat,\n",
        "      max_long\n",
        "    ])\n",
        "  \n",
        "  mapping_dict[str(i)] = {}\n",
        "  mapping_dict[str(i)]['index'] = i\n",
        "  mapping_dict[str(i)]['edges'] = edges\n",
        "  mapping_dict[str(i)]['weights'] = weights\n",
        "  mapping_dict[str(i)]['y'] = Y\n",
        "  mapping_dict[str(i)]['X'] = X"
      ],
      "metadata": {
        "id": "jEzZzldsm15Q"
      },
      "execution_count": 24,
      "outputs": []
    }
  ]
}